{
  "nbformat": 4,
  "nbformat_minor": 0,
  "metadata": {
    "colab": {
      "provenance": [],
      "authorship_tag": "ABX9TyOdtQPvZr0zZrOV1GUnCri0",
      "include_colab_link": true
    },
    "kernelspec": {
      "name": "python3",
      "display_name": "Python 3"
    },
    "language_info": {
      "name": "python"
    }
  },
  "cells": [
    {
      "cell_type": "markdown",
      "metadata": {
        "id": "view-in-github",
        "colab_type": "text"
      },
      "source": [
        "<a href=\"https://colab.research.google.com/github/Ronald-Granillo/Progra3/blob/main/PracticasLABprogra.ipynb\" target=\"_parent\"><img src=\"https://colab.research.google.com/assets/colab-badge.svg\" alt=\"Open In Colab\"/></a>"
      ]
    },
    {
      "cell_type": "markdown",
      "source": [
        "TIPOS DE DATOS"
      ],
      "metadata": {
        "id": "F40pH3Ih7maL"
      }
    },
    {
      "cell_type": "code",
      "execution_count": null,
      "metadata": {
        "colab": {
          "base_uri": "https://localhost:8080/"
        },
        "id": "nsaHrLNq7kZ2",
        "outputId": "3296aef7-fbb9-4538-e881-0eb8195b74b2"
      },
      "outputs": [
        {
          "output_type": "stream",
          "name": "stdout",
          "text": [
            "Los valores: Num 1:  5  Num 2:  4.9\n",
            "Valor: Num 1:  5\n"
          ]
        }
      ],
      "source": [
        "num1 = 5 #variable de tipo entero.\n",
        "num2 = 4.9 #variable de tipo double, real, decimal.\n",
        "print(\"Los valores: Num 1: \", num1, \" Num 2: \", num2)\n",
        "\n",
        "#num1 = 4.9\n",
        "print(\"Valor: Num 1: \", num1)"
      ]
    },
    {
      "cell_type": "code",
      "source": [
        "varLogica = False\n",
        "\n",
        "print(\"Variable Booleana: \", varLogica)"
      ],
      "metadata": {
        "id": "yayrOQVN8u3r"
      },
      "execution_count": null,
      "outputs": []
    },
    {
      "cell_type": "code",
      "source": [
        "nombre = \"Ronald Granillo\"\n",
        "print(\"Mi Nombre: \", nombre, \"Iniciales: \", nombre[0], nombre[6], \"Longitud: \", len(nombre) )\n",
        "print(\"Primer Nombre: \", nombre[0:6])\n",
        "print(\"Primer Nombre: \", nombre[:6])\n",
        "print(\"Apellido: \", nombre[6:len(nombre)])\n",
        "print(\"Apellid: \", nombre[6:])\n",
        "print(\"Apellido: \", nombre[-8:])\n"
      ],
      "metadata": {
        "colab": {
          "base_uri": "https://localhost:8080/"
        },
        "id": "Zig099CE9CAa",
        "outputId": "b95854ac-9f25-4b41-ee10-c3f0fcf04d9c"
      },
      "execution_count": null,
      "outputs": [
        {
          "output_type": "stream",
          "name": "stdout",
          "text": [
            "Mi Nombre:  Ronald Granillo Iniciales:  R   Longitud:  15\n",
            "Primer Nombre:  Ronald\n",
            "Primer Nombre:  Ronald\n",
            "Apellido:   Granillo\n",
            "Apellid:   Granillo\n",
            "Apellido:  Granillo\n"
          ]
        }
      ]
    },
    {
      "cell_type": "code",
      "source": [
        "print(type(num1))\n",
        "print(type(num2))\n",
        "print(type(varLogica))\n",
        "print(type(nombre))"
      ],
      "metadata": {
        "id": "3SjFmqx1BEtT"
      },
      "execution_count": null,
      "outputs": []
    },
    {
      "cell_type": "code",
      "source": [
        "num1 = float(input(\"Num 1: \"))\n",
        "num2 = float(input(\"Num 2: \"))\n",
        "resp = num1 + num2\n",
        "print(\"La suma es: \", resp)"
      ],
      "metadata": {
        "colab": {
          "base_uri": "https://localhost:8080/"
        },
        "id": "FEQBcLJfCB2l",
        "outputId": "d5244902-b057-447a-f8bf-f5c05375ff8a"
      },
      "execution_count": null,
      "outputs": [
        {
          "output_type": "stream",
          "name": "stdout",
          "text": [
            "Num 1: 5\n",
            "Num 2: 4\n",
            "La suma es:  9.0\n"
          ]
        }
      ]
    },
    {
      "cell_type": "code",
      "source": [
        "def suma(num1, num2):\n",
        "  return num1 + num2"
      ],
      "metadata": {
        "id": "2Ux8q7gtCqLU"
      },
      "execution_count": null,
      "outputs": []
    },
    {
      "cell_type": "code",
      "source": [
        "num1 = float(input(\"Num 1: \"))\n",
        "num2 = float(input(\"N4.26um 2: \"))\n",
        "resp = suma(num1, num2)\n",
        "print(resp)"
      ],
      "metadata": {
        "colab": {
          "base_uri": "https://localhost:8080/"
        },
        "id": "w4vsG6DsCy8E",
        "outputId": "f78ece99-1578-4c91-cf6b-71db701a3597"
      },
      "execution_count": null,
      "outputs": [
        {
          "output_type": "stream",
          "name": "stdout",
          "text": [
            "Num 1: 4\n",
            "N4.26um 2: 6\n",
            "10.0\n"
          ]
        }
      ]
    },
    {
      "cell_type": "markdown",
      "source": [
        "**FUNCIONES DE USUARIO**\n",
        "\n",
        "* Convertir grados celsius a farenheit."
      ],
      "metadata": {
        "id": "6cq55WCdAnzB"
      }
    },
    {
      "cell_type": "code",
      "source": [
        "def convertir_cf(c):\n",
        "  return 32 + c*9/5"
      ],
      "metadata": {
        "id": "7SufsIquBvy3"
      },
      "execution_count": null,
      "outputs": []
    },
    {
      "cell_type": "code",
      "source": [
        "c = float(input(\"Celsius: \"))\n",
        "print(\"F: \", convertir_cf(c))"
      ],
      "metadata": {
        "colab": {
          "base_uri": "https://localhost:8080/"
        },
        "id": "SurIz-llAnOq",
        "outputId": "a66a8d33-9640-4e8b-a14e-5752cf47057e"
      },
      "execution_count": null,
      "outputs": [
        {
          "output_type": "stream",
          "name": "stdout",
          "text": [
            "Celsius: 3\n",
            "F:  37.4\n"
          ]
        }
      ]
    },
    {
      "cell_type": "markdown",
      "source": [
        "**EJERCICIOS**\n",
        "* Convertir de Farenheit a Celsius\n",
        "* Convertir de [Celsius, Farenheit] a Kelvin"
      ],
      "metadata": {
        "id": "kZ5SZj9jGwOd"
      }
    },
    {
      "cell_type": "markdown",
      "source": [
        "* CALCULAR EL SUELDO MENSUAL"
      ],
      "metadata": {
        "id": "QASAQE1qKDph"
      }
    },
    {
      "cell_type": "code",
      "source": [
        "def sueldo(numHrs, valorXhr):\n",
        "  sueldo = numHrs*valorXhr*30\n",
        "  if(numHrs>8):\n",
        "    sueldo += (numHrs-8)*valorXhr*2*30\n",
        "  #isss + afp = 3 + 6.25 = 9.25 = 100 - 9.25 = 90.75/100 = 0.9075\n",
        "  #sueldo = sueldo*0.9075\n",
        "  return sueldo"
      ],
      "metadata": {
        "id": "T-V9nZ5ZJHhf"
      },
      "execution_count": null,
      "outputs": []
    },
    {
      "cell_type": "code",
      "source": [
        "tabla_isr = [\n",
        "    [0.01, 472, 0, 0],\n",
        "    [472.01, 895.24, 0.1, 17.67],\n",
        "    [895.25, 2038.1, 0.2, 60.00],\n",
        "    [2038.11,9999999, 0.3, 288.57]\n",
        "]"
      ],
      "metadata": {
        "id": "EVHH4A95VL5O"
      },
      "execution_count": null,
      "outputs": []
    },
    {
      "cell_type": "code",
      "source": [
        "def calcularIsr(sueldo, sueldoNeto):\n",
        "  impSr = 0\n",
        "  for tramo in tabla_isr:\n",
        "    if sueldo>tramo[0] and sueldo<=tramo[1]:\n",
        "      impSr = (sueldoNeto-tramo[0])*tramo[2] + tramo[3]\n",
        "  return impSr"
      ],
      "metadata": {
        "id": "1L4sEmNOXTiC"
      },
      "execution_count": null,
      "outputs": []
    },
    {
      "cell_type": "code",
      "source": [
        "valorXhr = 4\n",
        "#isss = 3%\n",
        "#afp = 6.25%\n",
        "numHrs = float(input(\"Horas trabajadas: \"))\n",
        "s = sueldo(numHrs, valorXhr)\n",
        "isr = calcularIsr(s, s*0.9075)\n",
        "print( \"Sueldo: \", s, \"ISR: \", isr, s*0.9075-isr )"
      ],
      "metadata": {
        "colab": {
          "base_uri": "https://localhost:8080/"
        },
        "id": "yh6CLsKzKsrj",
        "outputId": "b9f75f1f-9a2d-445f-abfb-9004f88e1a1e"
      },
      "execution_count": null,
      "outputs": [
        {
          "output_type": "stream",
          "name": "stdout",
          "text": [
            "Horas trabajadas: 8\n",
            "Sueldo:  960.0 ISR:  55.18999999999998 816.01\n"
          ]
        }
      ]
    },
    {
      "cell_type": "markdown",
      "source": [
        "**FUNCIONES LAMBDA**\n",
        "* FUNCIONES PRECONTRUIDAS MAP, FILTER, FIND, REDUCE, ETC."
      ],
      "metadata": {
        "id": "heQxy-5yC4lK"
      }
    },
    {
      "cell_type": "code",
      "source": [
        "def elevarCuadrado(num):\n",
        "  return num**2"
      ],
      "metadata": {
        "id": "eeH3DBemEiwZ"
      },
      "execution_count": null,
      "outputs": []
    },
    {
      "cell_type": "code",
      "source": [
        "data = [1,2,3,4,5]"
      ],
      "metadata": {
        "id": "RTv6ZkhUFA1i"
      },
      "execution_count": null,
      "outputs": []
    },
    {
      "cell_type": "code",
      "source": [
        "resp = map(elevarCuadrado, data)\n",
        "print(list(resp))"
      ],
      "metadata": {
        "colab": {
          "base_uri": "https://localhost:8080/"
        },
        "id": "PctATc9kDA2S",
        "outputId": "40cb686c-6d0a-49d5-b692-469e0dbaec0f"
      },
      "execution_count": null,
      "outputs": [
        {
          "output_type": "stream",
          "name": "stdout",
          "text": [
            "[1, 4, 9, 16, 25]\n"
          ]
        }
      ]
    },
    {
      "cell_type": "code",
      "source": [
        "resp = map(lambda n:n**2, data)\n",
        "print(list(resp))"
      ],
      "metadata": {
        "colab": {
          "base_uri": "https://localhost:8080/"
        },
        "id": "vNONfviMEuzJ",
        "outputId": "4ade38b4-3ed9-4e23-d0e3-bcb8c297176c"
      },
      "execution_count": null,
      "outputs": [
        {
          "output_type": "stream",
          "name": "stdout",
          "text": [
            "[1, 4, 9, 16, 25]\n"
          ]
        }
      ]
    },
    {
      "cell_type": "code",
      "source": [
        "resp = filter(lambda n:n>2, data)\n",
        "print( list(resp) )"
      ],
      "metadata": {
        "colab": {
          "base_uri": "https://localhost:8080/"
        },
        "id": "jSN45xd5E2Vi",
        "outputId": "f78c3d04-e994-4d44-f52e-bada260bb552"
      },
      "execution_count": null,
      "outputs": [
        {
          "output_type": "stream",
          "name": "stdout",
          "text": [
            "[1]\n"
          ]
        }
      ]
    },
    {
      "cell_type": "code",
      "source": [
        "resp = functools.reduce(lambda a,n:a+n, data)\n",
        "print(resp)"
      ],
      "metadata": {
        "colab": {
          "base_uri": "https://localhost:8080/"
        },
        "id": "e83DxapWFYQp",
        "outputId": "4433b75d-ecdc-4d9b-f1f8-d2bb45140914"
      },
      "execution_count": null,
      "outputs": [
        {
          "output_type": "stream",
          "name": "stdout",
          "text": [
            "15\n"
          ]
        }
      ]
    },
    {
      "cell_type": "markdown",
      "source": [
        "**TUPLAS**"
      ],
      "metadata": {
        "id": "9RYnyWcrH5NJ"
      }
    },
    {
      "cell_type": "code",
      "source": [
        "semana = (\"domingo\", \"lunes\", \"martes\", \"miercoles\", \"jueves\", \"viernes\", \"sabado\")\n",
        "#semana[0] = \"otro\"\n",
        "print( semana.count(\"domingo\") ) #count cuenta el numero de veces que aparece un elemento en la tupla\n",
        "print( len(semana) )"
      ],
      "metadata": {
        "colab": {
          "base_uri": "https://localhost:8080/"
        },
        "id": "cUXhU5ubH46h",
        "outputId": "bbae442a-cf08-459a-d245-a1d1d0e15618"
      },
      "execution_count": null,
      "outputs": [
        {
          "output_type": "stream",
          "name": "stdout",
          "text": [
            "1\n",
            "7\n"
          ]
        }
      ]
    },
    {
      "cell_type": "markdown",
      "source": [
        "**LISTAS** => **Array**"
      ],
      "metadata": {
        "id": "r8xQvE7MJytA"
      }
    },
    {
      "cell_type": "code",
      "source": [
        "meses = [\"ene\", \"feb\", \"mar\", \"abr\", \"may\", \"jun\", \"jul\", \"ago\", \"sep\", \"oct\", \"nov\", \"dic\"]\n",
        "print( meses[-2:] ) #ultimos dos meses del año\n",
        "print( meses[:2] ) #primero dos meses del año\n",
        "\n",
        "meses[0] = \"enero\"\n",
        "\n",
        "print( meses )"
      ],
      "metadata": {
        "colab": {
          "base_uri": "https://localhost:8080/"
        },
        "id": "nomZjGFhJkBw",
        "outputId": "d3d965a4-c3d2-4205-d6c8-512a6c81e1c9"
      },
      "execution_count": null,
      "outputs": [
        {
          "output_type": "stream",
          "name": "stdout",
          "text": [
            "['nov', 'dic']\n",
            "['ene', 'feb']\n",
            "['enero', 'feb', 'mar', 'abr', 'may', 'jun', 'jul', 'ago', 'sep', 'oct', 'nov', 'dic']\n"
          ]
        }
      ]
    },
    {
      "cell_type": "code",
      "source": [
        "materias = [ [\"Progra I\", [5,6,8], [8,7,9], [9,10,9] ], [\"Progra II\"] ]\n",
        "print( materias[1][0] )"
      ],
      "metadata": {
        "colab": {
          "base_uri": "https://localhost:8080/"
        },
        "id": "6ctEMmtTKzS5",
        "outputId": "0dbc90e3-551d-408f-cfb4-c97f0e8151fd"
      },
      "execution_count": null,
      "outputs": [
        {
          "output_type": "stream",
          "name": "stdout",
          "text": [
            "Progra II\n"
          ]
        }
      ]
    },
    {
      "cell_type": "markdown",
      "source": [
        "**DICCIONARIOS** => **JSON**"
      ],
      "metadata": {
        "id": "RwntUNyBLnxB"
      }
    },
    {
      "cell_type": "code",
      "source": [
        "materias = {\n",
        "    \"Progra I\": {\n",
        "        \"c1\": {\n",
        "          \"lab1\" : 5,\n",
        "          \"lab2\" : 6,\n",
        "          \"parcial\" : 8\n",
        "      },\n",
        "      \"c2\": {\n",
        "          \"lab1\" : 8,\n",
        "          \"lab2\" : 7,\n",
        "          \"parcial\" : 9\n",
        "      },\n",
        "      \"c3\": {\n",
        "          \"lab1\" : 9,\n",
        "          \"lab2\" : 10,\n",
        "          \"parcial\" : 9\n",
        "      }\n",
        "    },\n",
        "    \"Progra II\" :{\n",
        "\n",
        "    }\n",
        "}\n",
        "print( materias[\"Progra I\"][\"c1\"][\"lab1\"] )"
      ],
      "metadata": {
        "colab": {
          "base_uri": "https://localhost:8080/"
        },
        "id": "yvSSwGxWLsRU",
        "outputId": "ae4fdf71-c0ca-4d39-b237-a4d8e86c67ba"
      },
      "execution_count": null,
      "outputs": [
        {
          "output_type": "stream",
          "name": "stdout",
          "text": [
            "5\n"
          ]
        }
      ]
    },
    {
      "cell_type": "markdown",
      "source": [
        "**LISTAS**"
      ],
      "metadata": {
        "id": "rflA-XK2Gxzp"
      }
    },
    {
      "cell_type": "code",
      "source": [
        "data = [2,5,6,8,9]"
      ],
      "metadata": {
        "id": "uUSZtwSvG8CR"
      },
      "execution_count": null,
      "outputs": []
    },
    {
      "cell_type": "code",
      "source": [
        "resp = map(lambda n:n**3, data)\n",
        "print(list(resp))"
      ],
      "metadata": {
        "colab": {
          "base_uri": "https://localhost:8080/"
        },
        "id": "EVZwYIs6HP1Y",
        "outputId": "7455c227-c1de-4507-b85c-e449c19bc691"
      },
      "execution_count": null,
      "outputs": [
        {
          "output_type": "stream",
          "name": "stdout",
          "text": [
            "[8, 125, 216, 512, 729]\n"
          ]
        }
      ]
    },
    {
      "cell_type": "code",
      "source": [
        "f = map(lambda c:c*9/5 + 32, data)\n",
        "print( list(f) )"
      ],
      "metadata": {
        "colab": {
          "base_uri": "https://localhost:8080/"
        },
        "id": "V9_XbvqiIUv9",
        "outputId": "e125616f-6872-420f-a42f-1a147c0fbc71"
      },
      "execution_count": null,
      "outputs": [
        {
          "output_type": "stream",
          "name": "stdout",
          "text": [
            "[35.6, 41.0, 42.8, 46.4, 48.2]\n"
          ]
        }
      ]
    },
    {
      "cell_type": "code",
      "source": [
        "pares = filter(lambda n:n%2==0, data)\n",
        "print( list(pares) )"
      ],
      "metadata": {
        "colab": {
          "base_uri": "https://localhost:8080/"
        },
        "id": "J72OJuAnKl2r",
        "outputId": "abaa672e-0ca3-4052-e9b3-b443a5d177c0"
      },
      "execution_count": null,
      "outputs": [
        {
          "output_type": "stream",
          "name": "stdout",
          "text": [
            "[2, 6, 8]\n"
          ]
        }
      ]
    },
    {
      "cell_type": "code",
      "source": [
        "impares = filter(lambda n:n%2!=0, data)\n",
        "print( list(impares) )"
      ],
      "metadata": {
        "colab": {
          "base_uri": "https://localhost:8080/"
        },
        "id": "Tbag1lNsNtCU",
        "outputId": "7f9e679a-f3d4-45d9-afed-935e602e3fde"
      },
      "execution_count": null,
      "outputs": [
        {
          "output_type": "stream",
          "name": "stdout",
          "text": [
            "[5, 9]\n"
          ]
        }
      ]
    },
    {
      "cell_type": "markdown",
      "source": [
        "**CICLOS**\n",
        "* FOR"
      ],
      "metadata": {
        "id": "ptWdcZGNOYHq"
      }
    },
    {
      "cell_type": "code",
      "source": [
        "for item in data:\n",
        "  print(item)"
      ],
      "metadata": {
        "id": "wxR2o4jcOVnL"
      },
      "execution_count": null,
      "outputs": []
    },
    {
      "cell_type": "markdown",
      "source": [
        "* WHILE"
      ],
      "metadata": {
        "id": "gQJ7xiLSO8Uh"
      }
    },
    {
      "cell_type": "code",
      "source": [
        "i=0\n",
        "n = len(data)\n",
        "while i<n:\n",
        "  print( data[i] )\n",
        "  i+=1"
      ],
      "metadata": {
        "id": "2ZUiISg8O7ox"
      },
      "execution_count": null,
      "outputs": []
    },
    {
      "cell_type": "markdown",
      "source": [
        "**TABLA DE MULTIPLICAR**"
      ],
      "metadata": {
        "id": "RHUHe8PZPwmx"
      }
    },
    {
      "cell_type": "code",
      "source": [
        "n = int(input(\"N Tabla: \"))\n",
        "\n",
        "for i in range(1,11):\n",
        "  print( n, \"x\", i, \"=\", n*i )"
      ],
      "metadata": {
        "id": "bGpBsH0TPJ5g"
      },
      "execution_count": null,
      "outputs": []
    },
    {
      "cell_type": "code",
      "source": [
        "edad = int(input(\"Edad: \"))\n",
        "\n",
        "if edad<=2:\n",
        "  print(\"soy un bebe\")\n",
        "elif edad<=11:\n",
        "  print(\"Soy un niño\")\n",
        "elif edad<18:\n",
        "  print(\"Soy un adolescente\")\n",
        "elif edad<=65:\n",
        "  print(\"soy mayor de edad\")\n",
        "elif edad<=85:\n",
        "  print(\"Soy un adulto mayor\")\n",
        "else:\n",
        "  print(\"Larga vida\")"
      ],
      "metadata": {
        "colab": {
          "base_uri": "https://localhost:8080/"
        },
        "id": "_L4PXBeGSkA8",
        "outputId": "cad7eae6-7a7c-49e4-9e1a-d42968df8b05"
      },
      "execution_count": null,
      "outputs": [
        {
          "output_type": "stream",
          "name": "stdout",
          "text": [
            "Edad: 5\n",
            "Soy un niño\n"
          ]
        }
      ]
    },
    {
      "cell_type": "code",
      "source": [
        "lista = [5,8,9,15,7,9,2,3, 2, 1]"
      ],
      "metadata": {
        "id": "gM0bEvUTSmya"
      },
      "execution_count": null,
      "outputs": []
    },
    {
      "cell_type": "code",
      "source": [
        "mayor = 0\n",
        "for num in lista:\n",
        "  if num>mayor:\n",
        "    mayor = num\n",
        "print(\"EL numero mayor de la lista: \", lista, \"es: \", mayor)"
      ],
      "metadata": {
        "id": "AblaQU4qStll",
        "outputId": "7cbaae80-b77e-4d6a-ccd2-569752ce104d",
        "colab": {
          "base_uri": "https://localhost:8080/"
        }
      },
      "execution_count": null,
      "outputs": [
        {
          "output_type": "stream",
          "name": "stdout",
          "text": [
            "EL numero mayor de la lista:  [5, 8, 9, 15, 7, 9, 2, 3, 2, 1] es:  15\n"
          ]
        }
      ]
    },
    {
      "cell_type": "code",
      "source": [
        "mayor = 0\n",
        "i=0\n",
        "n=len(lista)\n",
        "while i<n:\n",
        "  if lista[i]>mayor:\n",
        "    mayor = lista[i]\n",
        "  i+=1\n",
        "print(mayor)"
      ],
      "metadata": {
        "id": "5Jg3sc5KSvMN",
        "outputId": "72ea4dd9-05b6-4663-e480-b3e45f84c86b",
        "colab": {
          "base_uri": "https://localhost:8080/"
        }
      },
      "execution_count": null,
      "outputs": [
        {
          "output_type": "stream",
          "name": "stdout",
          "text": [
            "15\n"
          ]
        }
      ]
    },
    {
      "cell_type": "markdown",
      "source": [
        "**Escribir un programa que pida la nota de un examen (0-10), e imprima por pantalla la calificacion en formato: \"Suspenso\" si la nota es menor a 5, \"Aprobado\" si es entre 5 inclusive, y 7 sin incluir, \"Notable\" si esta entre 7 inclusive y 9 sin incluir, \"Sobresaliente\" si esta entre 9 inclusive y 10 sin incluir, y \"Honorable\" si es 10**\n"
      ],
      "metadata": {
        "id": "kp37Mh-9Jm4E"
      }
    },
    {
      "cell_type": "code",
      "source": [
        "nota = float(input(\"Nota: \"))\n",
        "if(nota<0 or nota>10):\n",
        "  print(\"Nota invalida\")\n",
        "elif(nota<5):\n",
        "  print(\"SUPENSO\")\n",
        "elif(nota<7):\n",
        "  print(\"APROBADO\")\n",
        "elif(nota<9):\n",
        "  print(\"NOTABLE\")\n",
        "elif(nota<10):\n",
        "  print(\"SOBRESALIENTE\")\n",
        "else:\n",
        "  print(\"HONORABLE\")"
      ],
      "metadata": {
        "colab": {
          "base_uri": "https://localhost:8080/"
        },
        "id": "3aEtrKofJh38",
        "outputId": "ebda1b09-de91-4d21-ff66-6eb54b827f4a"
      },
      "execution_count": null,
      "outputs": [
        {
          "output_type": "stream",
          "name": "stdout",
          "text": [
            "Nota: 10\n",
            "HONORABLE\n"
          ]
        }
      ]
    },
    {
      "cell_type": "markdown",
      "source": [
        "**Escriba un programa que muestre la secuencia fibonacci**"
      ],
      "metadata": {
        "id": "5vjEaZgMTKgI"
      }
    },
    {
      "cell_type": "code",
      "source": [
        "limit = int(input(\"Limit: \"))\n",
        "a=0\n",
        "b=1\n",
        "c=0\n",
        "while c<limit:\n",
        "  c=a+b\n",
        "  print(a,\"+\",b,\"=\", c)\n",
        "  b=a\n",
        "  a=c\n"
      ],
      "metadata": {
        "id": "-FHRFWknTKIh"
      },
      "execution_count": null,
      "outputs": []
    },
    {
      "cell_type": "markdown",
      "source": [
        "**☣TAREA SEMANA 4 ☣**\n",
        "\n",
        "\n"
      ],
      "metadata": {
        "id": "K-VpaiP1uZrk"
      }
    },
    {
      "cell_type": "markdown",
      "source": [
        "**Calcular sobre el sueldo las deducciones por ley**"
      ],
      "metadata": {
        "id": "CniBP828u2zX"
      }
    },
    {
      "cell_type": "code",
      "source": [
        "sueldo = float(input(\"Ingrese el sueldo: \"))\n",
        "isss = sueldo * 0.03\n",
        "afp = sueldo * 0.0625\n",
        "\n",
        "if sueldo <= 472:\n",
        "    isr = 0\n",
        "elif sueldo <= 895.24:\n",
        "    isr = (sueldo - 472) * 0.1 + 17.67\n",
        "elif sueldo <= 2038.10:\n",
        "    isr = (sueldo - 895.24) * 0.2 + 60\n",
        "elif sueldo <= 4125.00:\n",
        "    isr = (sueldo - 2038.10) * 0.3 + 288.57\n",
        "else:\n",
        "    isr = (sueldo - 4125.00) * 0.4 + 692.96\n",
        "total_deducciones = isss + afp + isr\n",
        "sueldo_neto = sueldo - total_deducciones\n",
        "print(\"Deducciones:\")\n",
        "print(\"- ISSS: ${:.2f}\".format(isss))\n",
        "print(\"- AFP: ${:.2f}\".format(afp))\n",
        "print(\"- ISR: ${:.2f}\".format(isr))\n",
        "print(\"Total de deducciones: ${:.2f}\".format(total_deducciones))\n",
        "print(\"Sueldo neto: ${:.2f}\".format(sueldo_neto))"
      ],
      "metadata": {
        "colab": {
          "base_uri": "https://localhost:8080/"
        },
        "id": "GpQ72i1Du3gO",
        "outputId": "977fe6d9-f49b-4a6a-f62e-9c03dd611d95"
      },
      "execution_count": null,
      "outputs": [
        {
          "output_type": "stream",
          "name": "stdout",
          "text": [
            "Ingrese el sueldo: 400\n",
            "Deducciones:\n",
            "- ISSS: $12.00\n",
            "- AFP: $25.00\n",
            "- ISR: $0.00\n",
            "Total de deducciones: $37.00\n",
            "Sueldo neto: $363.00\n"
          ]
        }
      ]
    },
    {
      "cell_type": "markdown",
      "metadata": {
        "id": "wF774mZFR2O2"
      },
      "source": [
        "**Valor del agua en metros**"
      ]
    },
    {
      "cell_type": "code",
      "execution_count": null,
      "metadata": {
        "id": "VxJqqQybLjl8",
        "colab": {
          "base_uri": "https://localhost:8080/"
        },
        "outputId": "f6936cc2-cb18-4771-a2fe-08fe506f083b"
      },
      "outputs": [
        {
          "output_type": "stream",
          "name": "stdout",
          "text": [
            "Ingrese el número de metros consumidos: 19\n",
            "El valor a pagar es: $ 6.45\n"
          ]
        }
      ],
      "source": [
        "metros_consumidos = int(input(\"Ingrese el número de metros consumidos: \"))\n",
        "if metros_consumidos <= 18:\n",
        "    valor_pagar = 6\n",
        "elif metros_consumidos <= 28:\n",
        "    exceso = metros_consumidos - 18\n",
        "    valor_pagar = 6 + (exceso * 0.45)\n",
        "else:\n",
        "    exceso1 = 28 - 18\n",
        "    exceso2 = metros_consumidos - 28\n",
        "    valor_pagar = 6 + (exceso1 * 0.45) + (exceso2 * 0.65)\n",
        "print(\"El valor a pagar es: $\", valor_pagar)"
      ]
    },
    {
      "cell_type": "markdown",
      "metadata": {
        "id": "QlkO-qVzRcrn"
      },
      "source": [
        "**Desarrolle la tabla de meses acumulados a n meses**"
      ]
    },
    {
      "cell_type": "markdown",
      "metadata": {
        "id": "LAnDYyyXXI_i"
      },
      "source": [
        "**Maximo puesto en \"n\"**"
      ]
    },
    {
      "cell_type": "code",
      "source": [
        "n = int(input(\"¿Cuántos meses quieres ver? \"))\n",
        "meses_acumulados = []\n",
        "for i in range(1, n+1):\n",
        "    acumulado = i * (i + 1) // 2\n",
        "    meses_acumulados.append(acumulado)\n",
        "print(\"Mes\\tAcumulado\")\n",
        "for i in range(n):\n",
        "    print(\"{}\\t{}\".format(i+1, meses_acumulados[i]))"
      ],
      "metadata": {
        "colab": {
          "base_uri": "https://localhost:8080/"
        },
        "id": "BlVMPIqoT-NU",
        "outputId": "9c600732-5e51-4cb5-840a-005466d9955d"
      },
      "execution_count": null,
      "outputs": [
        {
          "output_type": "stream",
          "name": "stdout",
          "text": [
            "¿Cuántos meses quieres ver? 9\n",
            "Mes\tAcumulado\n",
            "1\t1\n",
            "2\t3\n",
            "3\t6\n",
            "4\t10\n",
            "5\t15\n",
            "6\t21\n",
            "7\t28\n",
            "8\t36\n",
            "9\t45\n"
          ]
        }
      ]
    },
    {
      "cell_type": "markdown",
      "metadata": {
        "id": "hcQgeWYaRlPu"
      },
      "source": [
        "**Conversores**"
      ]
    },
    {
      "cell_type": "code",
      "source": [
        "def convertir_unidad(valor, unidad_origen, unidad_destino, conversiones):\n",
        "    return valor * conversiones.get(unidad_destino, 0) / conversiones.get(unidad_origen, 1)\n",
        "\n",
        "def main():\n",
        "    conversiones = {\n",
        "        1: {\n",
        "            \"dolar\": 1,\n",
        "            \"euro\": 0.85,\n",
        "            \"pesoMEX\": 20.42,\n",
        "            \"pesoARG\": 94.88,\n",
        "            \"sol\": 4.09,\n",
        "            \"realB\": 4.85,\n",
        "            \"rublo\": 93.99\n",
        "        },\n",
        "        2: {\n",
        "            \"metros\": 1,\n",
        "            \"pies\": 3.28084,\n",
        "            \"pulgadas\": 39.3701,\n",
        "            \"centimetros\": 100,\n",
        "            \"kilometros\": 0.001,\n",
        "            \"millas\": 0.000621371\n",
        "        },\n",
        "        3: {\n",
        "            \"kilogramos\": 1,\n",
        "            \"gramos\": 1000,\n",
        "            \"libras\": 2.20462,\n",
        "            \"onzas\": 35.274\n",
        "        },\n",
        "        4: {\n",
        "            \"bytes\": 1,\n",
        "            \"kilobytes\": 1024,\n",
        "            \"megabytes\": 1024**2,\n",
        "            \"gigabytes\": 1024**3,\n",
        "            \"terabytes\": 1024**4\n",
        "        },\n",
        "        5: {\n",
        "            \"segundos\": 1,\n",
        "            \"minutos\": 1/60,\n",
        "            \"horas\": 1/3600,\n",
        "            \"dias\": 1/86400\n",
        "        },\n",
        "        6: {\n",
        "            \"litros\": 1,\n",
        "            \"mililitros\": 1000,\n",
        "            \"metros cubicos\": 0.001,\n",
        "            \"galones\": 0.264172,\n",
        "            \"pintas\": 2.11338\n",
        "        },\n",
        "        7: {\n",
        "            \"metros cuadrados\": 1,\n",
        "            \"centimetros cuadrados\": 10000,\n",
        "            \"pies cuadrados\": 10.7639,\n",
        "            \"pulgadas cuadradas\": 1550.0031,\n",
        "            \"acres\": 0.000247105\n",
        "        }\n",
        "    }\n",
        "\n",
        "    while True:\n",
        "        print(\"Seleccione la conversión que desea realizar:\")\n",
        "        print(\"1. Monedas\")\n",
        "        print(\"2. Longitud\")\n",
        "        print(\"3. Masa\")\n",
        "        print(\"4. Almacenamiento\")\n",
        "        print(\"5. Tiempo\")\n",
        "        print(\"6. Volumen\")\n",
        "        print(\"7. Área\")\n",
        "        opcion = int(input(\"Ingrese el número de la opción (1/2/3/4/5/6/7): \"))\n",
        "\n",
        "        if opcion in range(1, 8):\n",
        "            valor = float(input(\"Ingrese el valor a convertir: \"))\n",
        "            unidad_origen = input(\"Ingrese la unidad que desea convertir: \")\n",
        "            unidad_destino = input(\"Ingrese la unidad a la que desea convertir: \")\n",
        "            resultado = convertir_unidad(valor, unidad_origen, unidad_destino, conversiones[opcion])\n",
        "            print(f\"El resultado de la conversión es: {resultado} {unidad_destino}\")\n",
        "        else:\n",
        "            print(\"Opción no válida. Por favor, seleccione una opción válida.\")\n",
        "\n",
        "        continuar = input(\"¿Desea realizar otra conversión? (s/n): \")\n",
        "        if continuar.lower() != 's':\n",
        "            break\n",
        "\n",
        "if __name__ == \"__main__\":\n",
        "    main()"
      ],
      "metadata": {
        "colab": {
          "base_uri": "https://localhost:8080/"
        },
        "id": "MwXiiCBmx5gM",
        "outputId": "2a51ec2b-996f-45c9-fac9-84f689fe14f8"
      },
      "execution_count": null,
      "outputs": [
        {
          "name": "stdout",
          "output_type": "stream",
          "text": [
            "Seleccione la conversión que desea realizar:\n",
            "1. Monedas\n",
            "2. Longitud\n",
            "3. Masa\n",
            "4. Almacenamiento\n",
            "5. Tiempo\n",
            "6. Volumen\n",
            "7. Área\n",
            "Ingrese el número de la opción (1/2/3/4/5/6/7): 5\n",
            "Ingrese el valor a convertir: 1\n",
            "Ingrese la unidad que desea convertir: dias\n",
            "Ingrese la unidad a la que desea convertir: horas\n",
            "El resultado de la conversión es: 24.0 horas\n",
            "¿Desea realizar otra conversión? (s/n): n\n"
          ]
        }
      ]
    },
    {
      "cell_type": "markdown",
      "metadata": {
        "id": "J-p07VnERShu"
      },
      "source": [
        " **conversor propio**"
      ]
    },
    {
      "cell_type": "code",
      "execution_count": null,
      "metadata": {
        "id": "hzP3QQ6bdFR_",
        "colab": {
          "base_uri": "https://localhost:8080/"
        },
        "outputId": "48968ab0-e5e7-4022-d64d-7636063f6e4a"
      },
      "outputs": [
        {
          "name": "stdout",
          "output_type": "stream",
          "text": [
            "Seleccione la conversión que desea realizar:\n",
            "1. Cajas a Unidades\n",
            "2. Unidades a Cajas\n",
            "3. Sacos a Libras\n",
            "4. Libras a Sacos\n",
            "5. Fardos a Unidades\n",
            "6. Unidades a Fardos\n",
            "Ingrese el número de la opción (1/2/3/4/5/6): 1\n",
            "Ingrese el valor a convertir: 3\n",
            "El resultado de la conversión es: 75.0 unidades\n",
            "¿Desea realizar otra conversión? (s/n): s\n",
            "Seleccione la conversión que desea realizar:\n",
            "1. Cajas a Unidades\n",
            "2. Unidades a Cajas\n",
            "3. Sacos a Libras\n",
            "4. Libras a Sacos\n",
            "5. Fardos a Unidades\n",
            "6. Unidades a Fardos\n",
            "Ingrese el número de la opción (1/2/3/4/5/6): 2\n",
            "Ingrese el valor a convertir: 80\n",
            "El resultado de la conversión es: 3.2 cajas\n",
            "¿Desea realizar otra conversión? (s/n): n\n"
          ]
        }
      ],
      "source": [
        "def convertir_conversion_personalizada(valor, cantidad_origen, cantidad_destino, decimales=2):\n",
        "    return round(valor * cantidad_origen / cantidad_destino, decimales)\n",
        "def main():\n",
        "    while True:\n",
        "        print(\"Seleccione la conversión que desea realizar:\")\n",
        "        print(\"1. Cajas a Unidades\")\n",
        "        print(\"2. Unidades a Cajas\")\n",
        "        print(\"3. Sacos a Libras\")\n",
        "        print(\"4. Libras a Sacos\")\n",
        "        print(\"5. Fardos a Unidades\")\n",
        "        print(\"6. Unidades a Fardos\")\n",
        "        opcion = int(input(\"Ingrese el número de la opción (1/2/3/4/5/6): \"))\n",
        "        if opcion == 1:\n",
        "            valor = float(input(\"Ingrese el valor a convertir: \"))\n",
        "            resultado = convertir_conversion_personalizada(valor, 25, 1)\n",
        "            print(f\"El resultado de la conversión es: {resultado} unidades\")\n",
        "        elif opcion == 2:\n",
        "            valor = float(input(\"Ingrese el valor a convertir: \"))\n",
        "            resultado = convertir_conversion_personalizada(valor, 1, 25)\n",
        "            print(f\"El resultado de la conversión es: {resultado} cajas\")\n",
        "        elif opcion == 3:\n",
        "            valor = float(input(\"Ingrese el valor a convertir: \"))\n",
        "            resultado = convertir_conversion_personalizada(valor, 50, 1)\n",
        "            print(f\"El resultado de la conversión es: {resultado} libras\")\n",
        "        elif opcion == 4:\n",
        "            valor = float(input(\"Ingrese el valor a convertir: \"))\n",
        "            resultado = convertir_conversion_personalizada(valor, 1, 50)\n",
        "            print(f\"El resultado de la conversión es: {resultado} sacos\")\n",
        "        elif opcion == 5:\n",
        "            valor = float(input(\"Ingrese el valor a convertir: \"))\n",
        "            resultado = convertir_conversion_personalizada(valor, 5, 1)\n",
        "            print(f\"El resultado de la conversión es: {resultado} unidades\")\n",
        "        elif opcion == 6:\n",
        "            valor = float(input(\"Ingrese el valor a convertir: \"))\n",
        "            resultado = convertir_conversion_personalizada(valor, 1, 5)\n",
        "            print(f\"El resultado de la conversión es: {resultado} fardos\")\n",
        "        else:\n",
        "            print(\"Opción no válida. Por favor, seleccione una opción válida.\")\n",
        "        continuar = input(\"¿Desea realizar otra conversión? (s/n): \")\n",
        "        if continuar.lower() != 's':\n",
        "            break\n",
        "if __name__ == \"__main__\":\n",
        "    main()\n"
      ]
    },
    {
      "cell_type": "markdown",
      "source": [
        "1. **Escriba un programa que encuentre la media aritmetica de una serie de numeros introducidos por el usuario**\n",
        "2. **Escriba un programa que determine si una palabra introducida por el usuario es palindrome o no, ejm. de palabras palindrome: Ana, oso, oro, etc.**\n",
        "3. Escriba un programa que convierta un numero instroducido por el usuario a su equivalente en numeros romanos. Ejm: 5 -> V"
      ],
      "metadata": {
        "id": "S2FEGrj0c0Yu"
      }
    },
    {
      "cell_type": "markdown",
      "metadata": {
        "id": "Owx-9R02HN82"
      },
      "source": [
        "**MEDIA ARITMETICA**"
      ]
    },
    {
      "cell_type": "code",
      "execution_count": null,
      "metadata": {
        "id": "r_ogXXqXQdSf",
        "colab": {
          "base_uri": "https://localhost:8080/"
        },
        "outputId": "43ad7524-5b3e-4227-a5d4-3ac54a68c0dd"
      },
      "outputs": [
        {
          "name": "stdout",
          "output_type": "stream",
          "text": [
            "Ingrese la cantidad de números: 5\n",
            "Ingrese el número 1: 4\n",
            "Ingrese el número 2: 8\n",
            "Ingrese el número 3: 12\n",
            "Ingrese el número 4: 16\n",
            "Ingrese el número 5: 20\n",
            "La media aritmética es: 12.0\n",
            "¿Desea realizar otra conversión? (s/n): n\n"
          ]
        }
      ],
      "source": [
        "n = int(input(\"Ingrese la cantidad de números: \"))\n",
        "numeros = []\n",
        "for i in range(n):\n",
        "    numero = float(input(\"Ingrese el número {}: \".format(i+1)))\n",
        "    numeros.append(numero)\n",
        "media = sum(numeros) / n\n",
        "print(\"La media aritmética es:\", media)\n",
        "while True:\n",
        "    continuar = input(\"¿Desea realizar otra conversión? (s/n): \")\n",
        "    if continuar.lower() != 's':\n",
        "        break"
      ]
    },
    {
      "cell_type": "markdown",
      "metadata": {
        "id": "nkmXLlxnHRLl"
      },
      "source": [
        "**PALINDROME O NO**"
      ]
    },
    {
      "cell_type": "code",
      "execution_count": null,
      "metadata": {
        "id": "YZEQq8FyQtNn",
        "colab": {
          "base_uri": "https://localhost:8080/"
        },
        "outputId": "abccff4c-80e1-40df-ada1-52b191027bd9"
      },
      "outputs": [
        {
          "name": "stdout",
          "output_type": "stream",
          "text": [
            "Ingrese una palabra: oso\n",
            "La palabra es un palíndromo\n",
            "¿Desea ingresar otra palabra? (s/n): s\n",
            "Ingrese una palabra: verde\n",
            "La palabra no es un palíndromo\n",
            "¿Desea ingresar otra palabra? (s/n): s\n",
            "Ingrese una palabra: oro\n",
            "La palabra es un palíndromo\n",
            "¿Desea ingresar otra palabra? (s/n): n\n"
          ]
        }
      ],
      "source": [
        "def es_palindromo(palabra):\n",
        "    palabra = palabra.lower().replace(\" \", \"\")\n",
        "    return palabra == palabra[::-1]\n",
        "while True:\n",
        "    palabra = input(\"Ingrese una palabra: \")\n",
        "    if es_palindromo(palabra):\n",
        "        print(\"La palabra es un palíndromo\")\n",
        "    else:\n",
        "        print(\"La palabra no es un palíndromo\")\n",
        "    continuar = input(\"¿Desea ingresar otra palabra? (s/n): \")\n",
        "    if continuar.lower() != 's':\n",
        "        break"
      ]
    },
    {
      "cell_type": "markdown",
      "metadata": {
        "id": "Twa3RYz3HreN"
      },
      "source": [
        "**NUMEROS ROMANOS**"
      ]
    },
    {
      "cell_type": "code",
      "execution_count": null,
      "metadata": {
        "id": "3BPzsIRYRf_o",
        "colab": {
          "base_uri": "https://localhost:8080/"
        },
        "outputId": "41d98abb-1043-4c41-a6d5-52b904819d21"
      },
      "outputs": [
        {
          "name": "stdout",
          "output_type": "stream",
          "text": [
            "Ingrese un número: 5\n",
            "El número 5 en números romanos es: V\n",
            "¿Desea ingresar otro número? (s/n): s\n",
            "Ingrese un número: 100\n",
            "El número 100 en números romanos es: C\n",
            "¿Desea ingresar otro número? (s/n): n\n"
          ]
        }
      ],
      "source": [
        "def convertir_a_romano(numero):\n",
        "    simbolos = [\"M\", \"CM\", \"D\", \"CD\", \"C\", \"XC\", \"L\", \"XL\", \"X\", \"IX\", \"V\", \"IV\", \"I\"]\n",
        "    valores = [1000,  900, 500,  400,  100, 90,   50,  40,   10,   9,   5,   4,    1]\n",
        "    romano = \"\"\n",
        "    for i in range(len(simbolos)):\n",
        "        while numero >= valores[i]:\n",
        "            romano += simbolos[i]\n",
        "            numero -= valores[i]\n",
        "    return romano\n",
        "while True:\n",
        "    numero = int(input(\"Ingrese un número: \"))\n",
        "    numero_romano = convertir_a_romano(numero)\n",
        "    print(\"El número {} en números romanos es: {}\".format(numero, numero_romano))\n",
        "    continuar = input(\"¿Desea ingresar otro número? (s/n): \")\n",
        "    if continuar.lower() != 's':\n",
        "        break\n",
        "        cantidad = float(input('Ingrese la cantidad a convertir: '))\n",
        "unidad_origen = input('Ingrese la unidad de medida de origen: ')\n",
        "unidad_destino = input('Ingrese la unidad de medida de destino: ')\n",
        "resultado = convertir_area(cantidad, unidad_origen, unidad_destino)\n",
        "print(f'{cantidad} {unidad_origen} son {resultado} {unidad_destino}')"
      ]
    },
    {
      "cell_type": "markdown",
      "source": [
        "**PROGRAMACION ORIENTADA A OBJETOS.**\n",
        "\n",
        "* CLASE"
      ],
      "metadata": {
        "id": "SO7e1TgjQFzL"
      }
    },
    {
      "cell_type": "code",
      "source": [
        "class Calculadora:\n",
        "  def sumar(sefl, num1, num2):\n",
        "    return num1 + num2"
      ],
      "metadata": {
        "id": "Q4--jycBQRW1"
      },
      "execution_count": null,
      "outputs": []
    },
    {
      "cell_type": "markdown",
      "source": [
        "* INSTANCIA DE UNA CLASE"
      ],
      "metadata": {
        "id": "oAURe7sOQqoz"
      }
    },
    {
      "cell_type": "code",
      "source": [
        "objCalculadora = Calculadora()"
      ],
      "metadata": {
        "id": "B2S0xUofQmqk"
      },
      "execution_count": null,
      "outputs": []
    },
    {
      "cell_type": "markdown",
      "source": [
        "* OBJETO"
      ],
      "metadata": {
        "id": "9_7inFkhRBmr"
      }
    },
    {
      "cell_type": "code",
      "source": [
        "print( \"La suma de 5 + 3 = \", objCalculadora.sumar(5,3) )"
      ],
      "metadata": {
        "colab": {
          "base_uri": "https://localhost:8080/"
        },
        "id": "BGr-KldCRBOL",
        "outputId": "35822936-c73d-4b4b-efa2-bd0ea7c38140"
      },
      "execution_count": null,
      "outputs": [
        {
          "output_type": "stream",
          "name": "stdout",
          "text": [
            "La suma de 5 + 3 =  8\n"
          ]
        }
      ]
    },
    {
      "cell_type": "markdown",
      "source": [
        "**PARCIAL I PROGRAMACION III**"
      ],
      "metadata": {
        "id": "vgnwp-10RSIk"
      }
    },
    {
      "cell_type": "markdown",
      "source": [
        "**RONALD ALDAIR GRANILLO ORTEZ**  *USSS007522*\n",
        "\n",
        "*INGENIERIA EN SISTEMAS Y REDES INFORMATICAS*\n",
        "\n",
        "*CICLO IV 2023* ©"
      ],
      "metadata": {
        "id": "AHyec-_DTTcH"
      }
    },
    {
      "cell_type": "markdown",
      "source": [
        "Desarrolle el conversor de Área (Superficie) haciendo uso de los\n",
        "diccionarios y las funciones de usuario en Python que contenga las\n",
        "siguientes opciones\n",
        "\n",
        "a. Pie Cuadrado\n",
        "\n",
        "b. Vara Cuadrada\n",
        "\n",
        "c. Yarda Cuadrada\n",
        "\n",
        "d. Metro Cuadrado\n",
        "\n",
        "e. Tareas\n",
        "\n",
        "f. Manzana\n",
        "\n",
        "g. Hectárea"
      ],
      "metadata": {
        "id": "sT9Zzl6gS6_6"
      }
    },
    {
      "cell_type": "code",
      "source": [
        "def convertir_area(cantidad, unidad_origen, unidad_destino):\n",
        "    equivalencias = {\n",
        "        'pie cuadrado': 75.950,\n",
        "        'vara cuadrada':10.000 ,\n",
        "        'yarda cuadrada': 8.339,\n",
        "        'metro cuadrado':6.988 ,\n",
        "        'tareas': 16,\n",
        "        'manzana':1 ,\n",
        "        'hectarea':0.698896\n",
        "    }\n",
        "    cantidad_metros_cuadrados = cantidad / equivalencias[unidad_origen]\n",
        "    cantidad_destino = cantidad_metros_cuadrados * equivalencias[unidad_destino]\n",
        "    return cantidad_destino"
      ],
      "metadata": {
        "id": "ZJikYnSzRZS7"
      },
      "execution_count": null,
      "outputs": []
    },
    {
      "cell_type": "code",
      "source": [
        "cantidad = float(input('Ingrese la cantidad a convertir: '))\n",
        "unidad_origen = input('Ingrese la unidad de medida de origen: ')\n",
        "unidad_destino = input('Ingrese la unidad de medida de destino: ')\n",
        "resultado = convertir_area(cantidad, unidad_origen, unidad_destino)\n",
        "print(f'{cantidad} {unidad_origen} son {resultado} {unidad_destino}')"
      ],
      "metadata": {
        "colab": {
          "base_uri": "https://localhost:8080/"
        },
        "id": "HyeEqPsWhgM-",
        "outputId": "ff136839-5eb1-46e8-b48d-644fe98bc269"
      },
      "execution_count": null,
      "outputs": [
        {
          "name": "stdout",
          "output_type": "stream",
          "text": [
            "Ingrese la cantidad a convertir: 1\n"
          ]
        }
      ]
    }
  ]
}